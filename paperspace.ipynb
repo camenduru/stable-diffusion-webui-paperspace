{
 "cells": [
  {
   "cell_type": "code",
   "execution_count": null,
   "metadata": {},
   "outputs": [],
   "source": [
    "!rm -rf /notebooks/stable-diffusion-webui\n",
    "\n",
    "%cd /notebooks\n",
    "import os\n",
    "\n",
    "!apt -y update -qq\n",
    "\n",
    "!pip install torch==1.13.1+cu116 torchvision==0.14.1+cu116 torchaudio==0.13.1 --extra-index-url https://download.pytorch.org/whl/cu116 -U\n",
    "!apt -y install -qq aria2\n",
    "!pip install -q xformers==0.0.16\n",
    "!pip install -q triton==2.0.0\n",
    "\n",
    "!git clone -b v1.9 https://github.com/camenduru/stable-diffusion-webui\n",
    "!git clone https://huggingface.co/embed/negative /notebooks/stable-diffusion-webui/embeddings/negative\n",
    "!git clone https://huggingface.co/embed/lora /notebooks/stable-diffusion-webui/models/Lora/positive\n",
    "!aria2c --console-log-level=error -c -x 16 -s 16 -k 1M https://huggingface.co/embed/upscale/resolve/main/4x-UltraSharp.pth -d /notebooks/stable-diffusion-webui/models/ESRGAN -o 4x-UltraSharp.pth\n",
    "!wget https://raw.githubusernotebooks.com/camenduru/stable-diffusion-webui-scripts/main/run_n_times.py -O /notebooks/stable-diffusion-webui/scripts/run_n_times.py\n",
    "!git clone -b v1.9 https://github.com/camenduru/deforum-for-automatic1111-webui /notebooks/stable-diffusion-webui/extensions/deforum-for-automatic1111-webui\n",
    "!git clone -b v1.9 https://github.com/camenduru/stable-diffusion-webui-images-browser /notebooks/stable-diffusion-webui/extensions/stable-diffusion-webui-images-browser\n",
    "!git clone -b v1.9 https://github.com/camenduru/stable-diffusion-webui-huggingface /notebooks/stable-diffusion-webui/extensions/stable-diffusion-webui-huggingface\n",
    "!git clone -b v1.9 https://github.com/camenduru/sd-civitai-browser /notebooks/stable-diffusion-webui/extensions/sd-civitai-browser\n",
    "!git clone -b v1.9 https://github.com/camenduru/sd-webui-additional-networks /notebooks/stable-diffusion-webui/extensions/sd-webui-additional-networks\n",
    "!git clone -b v1.9 https://github.com/camenduru/sd-webui-tunnels /notebooks/stable-diffusion-webui/extensions/sd-webui-tunnels\n",
    "!git clone -b v1.9 https://github.com/camenduru/batchlinks-webui /notebooks/stable-diffusion-webui/extensions/batchlinks-webui\n",
    "!git clone -b v1.9 https://github.com/camenduru/stable-diffusion-webui-catppuccin /notebooks/stable-diffusion-webui/extensions/stable-diffusion-webui-catppuccin\n",
    "!git clone -b v1.9 https://github.com/camenduru/a1111-sd-webui-locon /notebooks/stable-diffusion-webui/extensions/a1111-sd-webui-locon\n",
    "!git clone -b v1.9 https://github.com/camenduru/stable-diffusion-webui-rembg /notebooks/stable-diffusion-webui/extensions/stable-diffusion-webui-rembg\n",
    "!git clone -b v1.9 https://github.com/camenduru/stable-diffusion-webui-two-shot /notebooks/stable-diffusion-webui/extensions/stable-diffusion-webui-two-shot\n",
    "%cd /notebooks/stable-diffusion-webui\n",
    "!git reset --hard\n",
    "\n",
    "!aria2c --console-log-level=error -c -x 16 -s 16 -k 1M https://civitai.com/api/download/models/31212 -d /notebooks/stable-diffusion-webui/models/Stable-diffusion -o duchaitenStylelikeme_duchaitenStylelikeme.safetensors\n",
    "\n",
    "!sed -i -e '''/    prepare_environment()/a\\    os.system\\(f\\\"\"\"sed -i -e ''\\\"s/dict()))/dict())).cuda()/g\\\"'' /notebooks/stable-diffusion-webui/repositories/stable-diffusion-stability-ai/ldm/util.py\"\"\")''' /notebooks/stable-diffusion-webui/launch.py\n",
    "!sed -i -e 's/fastapi==0.90.1/fastapi==0.89.1/g' /notebooks/stable-diffusion-webui/requirements_versions.txt\n",
    "\n",
    "!mkdir /notebooks/stable-diffusion-webui/extensions/deforum-for-automatic1111-webui/models\n",
    "\n",
    "!python launch.py --listen --xformers --enable-insecure-extension-access --theme dark --gradio-queue --multiple"
   ]
  }
 ],
 "metadata": {
  "language_info": {
   "name": "python"
  },
  "orig_nbformat": 4
 },
 "nbformat": 4,
 "nbformat_minor": 2
}
